{
 "cells": [
  {
   "cell_type": "code",
   "execution_count": 16,
   "id": "648040f0",
   "metadata": {},
   "outputs": [],
   "source": [
    "from torchvision import transforms\n",
    "import matplotlib.pyplot as plt\n",
    "import os\n",
    "import pandas as pd\n",
    "import PIL.Image\n",
    "from torchvision import transforms"
   ]
  },
  {
   "cell_type": "code",
   "execution_count": 17,
   "id": "36703ddf",
   "metadata": {},
   "outputs": [],
   "source": [
    "application_image_directory='/Users/shreyaspatel/Desktop/Concordia University/SEM02/COMP 6721 Applied AI/Project/Part 1/Final_Data/Final_Dataset/Male/Age3/N95 Mask'\n",
    "images_path_list = os.listdir(application_image_directory)"
   ]
  },
  {
   "cell_type": "code",
   "execution_count": 18,
   "id": "201a3d48",
   "metadata": {},
   "outputs": [
    {
     "name": "stdout",
     "output_type": "stream",
     "text": [
      "Total flopped Images: 40\n"
     ]
    }
   ],
   "source": [
    "i=0\n",
    "for imageFile in images_path_list:\n",
    "    #print(imageFile)\n",
    "    if \".DS_Store\" not in imageFile:\n",
    "        i = i + 1\n",
    "        application_image = PIL.Image.open(application_image_directory+\"/\"+imageFile)\n",
    "        loader_transform_flip = transforms.RandomHorizontalFlip(p=1)\n",
    "        application_image_flip = loader_transform_flip(application_image)\n",
    "        application_image_flip.save(application_image_directory+\"/flip_\"+imageFile)\n",
    "print(\"Total flopped Images: \"+str(i))"
   ]
  },
  {
   "cell_type": "code",
   "execution_count": 19,
   "id": "f885eeba",
   "metadata": {},
   "outputs": [
    {
     "name": "stdout",
     "output_type": "stream",
     "text": [
      "Total saturation Images: 40\n"
     ]
    }
   ],
   "source": [
    "i=0\n",
    "for imageFile in images_path_list:\n",
    "    #print(imageFile)\n",
    "    if \".DS_Store\" not in imageFile:\n",
    "        i = i + 1\n",
    "        application_image = PIL.Image.open(application_image_directory+\"/\"+imageFile)\n",
    "        loader_transform_saturation = transforms.ColorJitter(saturation=2)\n",
    "        application_image_saturation = loader_transform_saturation(application_image)\n",
    "        application_image_saturation.save(application_image_directory+\"/saturation_\"+imageFile)\n",
    "print(\"Total saturation Images: \"+str(i))"
   ]
  },
  {
   "cell_type": "code",
   "execution_count": 20,
   "id": "95caf367",
   "metadata": {},
   "outputs": [
    {
     "name": "stdout",
     "output_type": "stream",
     "text": [
      "Total hue Images: 40\n"
     ]
    }
   ],
   "source": [
    "i=0\n",
    "for imageFile in images_path_list:\n",
    "    #print(imageFile)\n",
    "    if \".DS_Store\" not in imageFile:\n",
    "        i = i + 1\n",
    "        application_image = PIL.Image.open(application_image_directory+\"/\"+imageFile)\n",
    "        loader_transform_hue = transforms.ColorJitter(hue=0.15)\n",
    "        application_image_hue = loader_transform_hue(application_image)\n",
    "        application_image_hue.save(application_image_directory+\"/hue\"+imageFile)\n",
    "print(\"Total hue Images: \"+str(i))"
   ]
  },
  {
   "cell_type": "code",
   "execution_count": null,
   "id": "027ff15d",
   "metadata": {},
   "outputs": [],
   "source": []
  }
 ],
 "metadata": {
  "kernelspec": {
   "display_name": "Python 3 (ipykernel)",
   "language": "python",
   "name": "python3"
  },
  "language_info": {
   "codemirror_mode": {
    "name": "ipython",
    "version": 3
   },
   "file_extension": ".py",
   "mimetype": "text/x-python",
   "name": "python",
   "nbconvert_exporter": "python",
   "pygments_lexer": "ipython3",
   "version": "3.9.7"
  }
 },
 "nbformat": 4,
 "nbformat_minor": 5
}
