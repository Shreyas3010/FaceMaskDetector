{
 "cells": [
  {
   "cell_type": "markdown",
   "metadata": {},
   "source": [
    "### Importing Packages"
   ]
  },
  {
   "cell_type": "code",
   "execution_count": 1,
   "metadata": {
    "id": "MAJPcx4SI_wx"
   },
   "outputs": [],
   "source": [
    "import torch\n",
    "import torchvision.transforms as transforms\n",
    "from torchvision.datasets import ImageFolder\n",
    "from sklearn.model_selection import train_test_split\n",
    "from torch.utils.data import Subset\n",
    "from collections import Counter\n",
    "import matplotlib.pyplot as plt\n",
    "import torch.nn as nn\n",
    "from torch.utils.data import DataLoader\n",
    "from PIL import Image\n",
    "import torch.nn.functional as F\n",
    "import torchvision\n",
    "from sklearn.metrics import ConfusionMatrixDisplay, confusion_matrix, classification_report, precision_recall_fscore_support\n",
    "from torchvision import models\n",
    "from torchsummary import summary\n",
    "import warnings  \n",
    "warnings.filterwarnings(\"ignore\")"
   ]
  },
  {
   "cell_type": "code",
   "execution_count": 2,
   "metadata": {
    "id": "rHodTyZ9JCaz"
   },
   "outputs": [],
   "source": [
    "config = {\n",
    "    'images_folder': '/Users/shreyaspatel/Desktop/Concordia University/SEM02/COMP 6721 Applied AI/Project/Part 1/Final_Data/Mask Dataset',\n",
    "    'train_batch_size': 128,\n",
    "    'test_batch_size': 128,\n",
    "    'num_epochs': 20,\n",
    "    'learning_rate': 0.001\n",
    "}\n",
    "\n",
    "savedModel = False\n",
    "model_path = '/Users/shreyaspatel/Desktop/Concordia University/SEM02/COMP 6721 Applied AI/Project/Part 1/Model'\n",
    "model_file_name= '/cnn_mask_classification_3_cl_2_pl_new.pt'"
   ]
  },
  {
   "cell_type": "code",
   "execution_count": 3,
   "metadata": {
    "id": "oy49XBLGJFT9"
   },
   "outputs": [],
   "source": [
    "def get_images(images_path, test_split=0.20):\n",
    "    transform = transforms.Compose([transforms.ToTensor(), transforms.Resize([32, 32]),\n",
    "                                    transforms.Normalize((0.5202, 0.4792, 0.4603), (0.2875, 0.2841, 0.2846))])\n",
    "    dataset = ImageFolder(images_path, transform=transform)\n",
    "    classLabels = dataset.class_to_idx;\n",
    "    classImages = dict(Counter(dataset.targets))\n",
    "\n",
    "    # Plotting the bar graph of the data\n",
    "    keys = [\"Cloth Mask\", \"Mask Worn Incorrectly\", \"N95 Mask\", \"No Face Mask\", \"Surgical Mask\"]\n",
    "    values = list(classImages.values())\n",
    "    plt.bar(keys, values, color ='blue',width = 0.4)\n",
    "    plt.xlabel(\"Type of classes\")\n",
    "    plt.ylabel(\"Number of images\")\n",
    "    plt.title(\"Number of images in each mask type\")\n",
    "    plt.xticks(rotation = 90)\n",
    "    plt.show()\n",
    "\n",
    "    # Showing count of each image\n",
    "    print(\"\\n\")\n",
    "    for k in keys:\n",
    "      print(k + \": \" + str(classImages[classLabels[k]]))\n",
    "\n",
    "    train_idx, test_idx = train_test_split(list(range(len(dataset))), test_size=test_split)\n",
    "    train = Subset(dataset, train_idx)\n",
    "    test = Subset(dataset, test_idx)\n",
    "\n",
    "    return train, test"
   ]
  },
  {
   "cell_type": "markdown",
   "metadata": {},
   "source": [
    "### Splitting Data into Train and Test"
   ]
  },
  {
   "cell_type": "code",
   "execution_count": 4,
   "metadata": {
    "colab": {
     "base_uri": "https://localhost:8080/",
     "height": 902
    },
    "id": "inxAhK-LJIgc",
    "outputId": "7d633d89-52a2-4703-df87-e0501db24422"
   },
   "outputs": [
    {
     "data": {
      "image/png": "[encoded data removed]",
      "text/plain": [
       "<Figure size 432x288 with 1 Axes>"
      ]
     },
     "metadata": {
      "needs_background": "light"
     },
     "output_type": "display_data"
    },
    {
     "name": "stdout",
     "output_type": "stream",
     "text": [
      "\n",
      "\n",
      "Cloth Mask: 589\n",
      "Mask Worn Incorrectly: 600\n",
      "N95 Mask: 593\n",
      "No Face Mask: 600\n",
      "Surgical Mask: 600\n"
     ]
    }
   ],
   "source": [
    "train_data, test_data = get_images(config['images_folder'])"
   ]
  },
  {
   "cell_type": "markdown",
   "metadata": {},
   "source": [
    "#### Getting train and test loader"
   ]
  },
  {
   "cell_type": "code",
   "execution_count": 5,
   "metadata": {
    "id": "Wb7ASxbeJKOC"
   },
   "outputs": [],
   "source": [
    "train_dataloader = DataLoader(train_data, batch_size=config[\"train_batch_size\"], shuffle=True)\n",
    "test_dataloader = DataLoader(test_data, batch_size=config[\"test_batch_size\"], shuffle=False)"
   ]
  },
  {
   "cell_type": "markdown",
   "metadata": {},
   "source": [
    "### CNN Model"
   ]
  },
  {
   "cell_type": "code",
   "execution_count": 6,
   "metadata": {
    "id": "VZwBNkbUJNrp"
   },
   "outputs": [],
   "source": [
    "class Model(nn.Module):\n",
    "    def __init__(self):\n",
    "        super(Model, self).__init__()\n",
    "        self.conv_layer = nn.Sequential(\n",
    "            \n",
    "            nn.Conv2d(in_channels=3, out_channels=16, kernel_size=3, padding=1),\n",
    "            nn.BatchNorm2d(16),\n",
    "            nn.LeakyReLU(inplace=True),\n",
    "            \n",
    "            nn.Conv2d(in_channels=16, out_channels=32, kernel_size=3, padding=1),\n",
    "            nn.BatchNorm2d(32),\n",
    "            nn.LeakyReLU(inplace=True),\n",
    "            \n",
    "            nn.MaxPool2d(kernel_size=2, stride=2),\n",
    "            \n",
    "            nn.Conv2d(in_channels=32, out_channels=64, kernel_size=3, padding=1),\n",
    "            nn.BatchNorm2d(64),\n",
    "            nn.LeakyReLU(inplace=True),\n",
    "            \n",
    "            #nn.Conv2d(in_channels=64, out_channels=64, kernel_size=3, padding=1),\n",
    "            #nn.BatchNorm2d(64),\n",
    "            #nn.LeakyReLU(inplace=True),\n",
    "            \n",
    "            nn.MaxPool2d(kernel_size=2, stride=2),\n",
    "        )\n",
    "        self.fc_layer = nn.Sequential(\n",
    "            nn.Dropout(p=0.1),\n",
    "            nn.Linear(8 * 8 * 64, 1000),\n",
    "            nn.ReLU(inplace=True),\n",
    "            nn.Linear(1000, 512),\n",
    "            nn.ReLU(inplace=True),\n",
    "            nn.Dropout(p=0.1),\n",
    "            nn.Linear(512, 5)\n",
    "        )\n",
    "\n",
    "    def forward(self, x):\n",
    "        # conv layers\n",
    "        x = self.conv_layer(x)\n",
    "        # flatten\n",
    "        x = x.view(x.size(0), -1)\n",
    "        # fc layer\n",
    "        x = self.fc_layer(x)\n",
    "        return x\n"
   ]
  },
  {
   "cell_type": "code",
   "execution_count": 7,
   "metadata": {
    "colab": {
     "base_uri": "https://localhost:8080/"
    },
    "id": "jlY41u51JPiI",
    "outputId": "ec861423-19dd-48d6-f957-0d1f5bcde57f"
   },
   "outputs": [],
   "source": [
    "device = 'cuda' if torch.cuda.is_available() else \"cpu\""
   ]
  },
  {
   "cell_type": "code",
   "execution_count": 8,
   "metadata": {
    "colab": {
     "base_uri": "https://localhost:8080/"
    },
    "id": "CUjnsd7OJRUO",
    "outputId": "5377c005-254e-4f11-9c90-97c837cef559"
   },
   "outputs": [
    {
     "name": "stdout",
     "output_type": "stream",
     "text": [
      "----------------------------------------------------------------\n",
      "        Layer (type)               Output Shape         Param #\n",
      "================================================================\n",
      "            Conv2d-1           [-1, 16, 32, 32]             448\n",
      "       BatchNorm2d-2           [-1, 16, 32, 32]              32\n",
      "         LeakyReLU-3           [-1, 16, 32, 32]               0\n",
      "            Conv2d-4           [-1, 32, 32, 32]           4,640\n",
      "       BatchNorm2d-5           [-1, 32, 32, 32]              64\n",
      "         LeakyReLU-6           [-1, 32, 32, 32]               0\n",
      "         MaxPool2d-7           [-1, 32, 16, 16]               0\n",
      "            Conv2d-8           [-1, 64, 16, 16]          18,496\n",
      "       BatchNorm2d-9           [-1, 64, 16, 16]             128\n",
      "        LeakyReLU-10           [-1, 64, 16, 16]               0\n",
      "        MaxPool2d-11             [-1, 64, 8, 8]               0\n",
      "          Dropout-12                 [-1, 4096]               0\n",
      "           Linear-13                 [-1, 1000]       4,097,000\n",
      "             ReLU-14                 [-1, 1000]               0\n",
      "           Linear-15                  [-1, 512]         512,512\n",
      "             ReLU-16                  [-1, 512]               0\n",
      "          Dropout-17                  [-1, 512]               0\n",
      "           Linear-18                    [-1, 5]           2,565\n",
      "================================================================\n",
      "Total params: 4,635,885\n",
      "Trainable params: 4,635,885\n",
      "Non-trainable params: 0\n",
      "----------------------------------------------------------------\n",
      "Input size (MB): 0.01\n",
      "Forward/backward pass size (MB): 1.65\n",
      "Params size (MB): 17.68\n",
      "Estimated Total Size (MB): 19.35\n",
      "----------------------------------------------------------------\n"
     ]
    }
   ],
   "source": [
    "if savedModel:\n",
    "  model = Model()\n",
    "  model.load_state_dict(torch.load(model_path+model_file_name, torch.device(device)))\n",
    "  model.eval()\n",
    "  model.to(device)\n",
    "  summary(model, (3, 32, 32))\n",
    "else:\n",
    "  model = Model()\n",
    "  model = model.to(device)\n",
    "  summary(model, (3, 32, 32))\n",
    "  optimizer = torch.optim.Adam(model.parameters(), lr=config['learning_rate'])\n",
    "  criterion = nn.CrossEntropyLoss()"
   ]
  },
  {
   "cell_type": "markdown",
   "metadata": {},
   "source": [
    "### Model Training Class "
   ]
  },
  {
   "cell_type": "code",
   "execution_count": 9,
   "metadata": {
    "id": "6mhMSD-jJTsB"
   },
   "outputs": [],
   "source": [
    "class ModelTraining:\n",
    "    def __init__(self, model, device, optimizer, criteria):\n",
    "        self.model = model\n",
    "        self.device = device\n",
    "        self.optimizer = optimizer\n",
    "        self.criteria = criteria\n",
    "\n",
    "    def training(self, train_dataloader, epochs):\n",
    "        total_no_of_steps = len(train_dataloader)\n",
    "        accuracyList = []\n",
    "        trainingLoss = []\n",
    "        for epoch in range(epochs):\n",
    "            self.model.train()\n",
    "            train_total = 0\n",
    "            train_correct = 0\n",
    "            for i, (images, labels) in enumerate(train_dataloader):\n",
    "                images = images.to(self.device)\n",
    "                labels = labels.to(self.device)\n",
    "\n",
    "                outputs = self.model(images)\n",
    "                loss = self.criteria(outputs, labels)\n",
    "\n",
    "                self.optimizer.zero_grad()\n",
    "                loss.backward()\n",
    "                self.optimizer.step()\n",
    "                \n",
    "                _, predicted = torch.max(outputs.data, 1)\n",
    "                train_total += labels.shape[0]\n",
    "                train_correct += (predicted == labels).sum().item()\n",
    "            print(\n",
    "                f'Epoch {epoch + 1} / {epochs}, Training loss = {loss.item():.4f}, Training accuracy = {(train_correct / train_total) * 100}')\n",
    "            accuracyList.append((train_correct / train_total) * 100)\n",
    "            trainingLoss.append(loss.item())\n",
    "        return accuracyList, trainingLoss"
   ]
  },
  {
   "cell_type": "markdown",
   "metadata": {},
   "source": [
    "### Training the Model "
   ]
  },
  {
   "cell_type": "code",
   "execution_count": 10,
   "metadata": {
    "colab": {
     "base_uri": "https://localhost:8080/"
    },
    "id": "iR6ZpIJkJW4_",
    "outputId": "5d4cc910-3ede-4944-c7a6-115c682727fe"
   },
   "outputs": [
    {
     "name": "stdout",
     "output_type": "stream",
     "text": [
      "Epoch 1 / 20, Training loss = 1.1423, Training accuracy = 35.76519916142558\n",
      "Epoch 2 / 20, Training loss = 0.9124, Training accuracy = 55.42976939203355\n",
      "Epoch 3 / 20, Training loss = 0.9017, Training accuracy = 66.33123689727464\n",
      "Epoch 4 / 20, Training loss = 0.6541, Training accuracy = 70.64989517819707\n",
      "Epoch 5 / 20, Training loss = 0.4712, Training accuracy = 75.8909853249476\n",
      "Epoch 6 / 20, Training loss = 0.6745, Training accuracy = 78.74213836477988\n",
      "Epoch 7 / 20, Training loss = 0.5586, Training accuracy = 84.27672955974843\n",
      "Epoch 8 / 20, Training loss = 0.4161, Training accuracy = 85.9538784067086\n",
      "Epoch 9 / 20, Training loss = 0.3163, Training accuracy = 90.39832285115304\n",
      "Epoch 10 / 20, Training loss = 0.1554, Training accuracy = 92.0754716981132\n",
      "Epoch 11 / 20, Training loss = 0.1364, Training accuracy = 94.75890985324948\n",
      "Epoch 12 / 20, Training loss = 0.2603, Training accuracy = 95.63941299790356\n",
      "Epoch 13 / 20, Training loss = 0.0883, Training accuracy = 96.51991614255765\n",
      "Epoch 14 / 20, Training loss = 0.0650, Training accuracy = 97.14884696016772\n",
      "Epoch 15 / 20, Training loss = 0.0837, Training accuracy = 96.85534591194968\n",
      "Epoch 16 / 20, Training loss = 0.1137, Training accuracy = 96.51991614255765\n",
      "Epoch 17 / 20, Training loss = 0.0832, Training accuracy = 96.9392033542977\n",
      "Epoch 18 / 20, Training loss = 0.0335, Training accuracy = 98.19706498951783\n",
      "Epoch 19 / 20, Training loss = 0.0336, Training accuracy = 99.16142557651992\n",
      "Epoch 20 / 20, Training loss = 0.0204, Training accuracy = 99.20335429769392\n"
     ]
    }
   ],
   "source": [
    "if not savedModel:\n",
    "  model_trainer = ModelTraining(model=model, device=device, optimizer=optimizer, criteria=criterion)\n",
    "  accuracyList, trainingLossList = model_trainer.training(train_dataloader, epochs=config[\"num_epochs\"])\n",
    "  torch.save(model.state_dict(),model_path+model_file_name)"
   ]
  },
  {
   "cell_type": "markdown",
   "metadata": {},
   "source": [
    "#### Plot the graph of training accuracy vs the epoch"
   ]
  },
  {
   "cell_type": "code",
   "execution_count": 11,
   "metadata": {
    "colab": {
     "base_uri": "https://localhost:8080/",
     "height": 300
    },
    "id": "jSTgnM7gJsOn",
    "outputId": "54d6bc31-29cc-4bdd-e0ca-daba6b89c490"
   },
   "outputs": [
    {
     "data": {
      "text/plain": [
       "Text(0, 0.5, 'Training accuracy')"
      ]
     },
     "execution_count": 11,
     "metadata": {},
     "output_type": "execute_result"
    },
    {
     "data": {
      "image/png": "[encoded data removed]",
      "text/plain": [
       "<Figure size 432x288 with 1 Axes>"
      ]
     },
     "metadata": {
      "needs_background": "light"
     },
     "output_type": "display_data"
    }
   ],
   "source": [
    "plt.plot(range(1, config['num_epochs']+1), accuracyList, 'r--')\n",
    "plt.xlabel('Epoch')\n",
    "plt.ylabel('Training accuracy')"
   ]
  },
  {
   "cell_type": "markdown",
   "metadata": {},
   "source": [
    "#### Plot the graph of training loss vs the epoch"
   ]
  },
  {
   "cell_type": "code",
   "execution_count": 12,
   "metadata": {
    "colab": {
     "base_uri": "https://localhost:8080/",
     "height": 297
    },
    "id": "xldP6lQcJuTr",
    "outputId": "8251bb2f-75a5-4166-b53a-f6a723598c6a"
   },
   "outputs": [
    {
     "data": {
      "text/plain": [
       "Text(0, 0.5, 'Training Loss')"
      ]
     },
     "execution_count": 12,
     "metadata": {},
     "output_type": "execute_result"
    },
    {
     "data": {
      "image/png": "[encoded data removed]",
      "text/plain": [
       "<Figure size 432x288 with 1 Axes>"
      ]
     },
     "metadata": {
      "needs_background": "light"
     },
     "output_type": "display_data"
    }
   ],
   "source": [
    "plt.plot(range(1, config['num_epochs']+1), trainingLossList, 'b--')\n",
    "plt.xlabel('Epoch')\n",
    "plt.ylabel('Training Loss')"
   ]
  },
  {
   "cell_type": "markdown",
   "metadata": {},
   "source": [
    " #### Getting the accuracy of the model"
   ]
  },
  {
   "cell_type": "code",
   "execution_count": 13,
   "metadata": {
    "id": "Y5XUur4BJxt5"
   },
   "outputs": [],
   "source": [
    "def getModelAccuracy(model, test_dataloader, device):\n",
    "    model.eval()\n",
    "    total = 0\n",
    "    correct = 0\n",
    "    y_pred = []\n",
    "    y_true = []\n",
    "    precision = dict()\n",
    "    recall = dict()\n",
    "    avg = dict()\n",
    "    with torch.no_grad():\n",
    "        for images, labels in test_dataloader:\n",
    "            images = images.to(device)\n",
    "            labels = labels.to(device)\n",
    "            model_pred_on_test = model(images)\n",
    "            model_pred_on_test = torch.argmax(F.softmax(model_pred_on_test.data), 1)\n",
    "            predicted = model_pred_on_test\n",
    "            total += labels.shape[0]\n",
    "            correct += (predicted == labels).sum().item()\n",
    "            if y_pred == []:\n",
    "              y_true = labels[:]\n",
    "              y_pred = model_pred_on_test[:]\n",
    "            else:\n",
    "              y_true = torch.hstack([y_true, labels])\n",
    "              y_pred = torch.hstack([y_pred, model_pred_on_test])\n",
    "        print('Test Accuracy of the model on the test images: {} %'\n",
    "              .format((correct / total) * 100))\n",
    "        y_pred = y_pred.cpu().detach().numpy()\n",
    "        y_true = y_true.cpu().detach().numpy()\n",
    "        target_names = [\"Cloth Mask\", \"Mask Worn Incorrectly\", \"N95 Mask\", \"No Face Mask\", \"Surgical Mask\"]\n",
    "        labels_names = [0, 1, 2, 3, 4]\n",
    "        print(classification_report(y_true, y_pred, labels=labels_names, target_names=target_names))\n",
    "        cm = confusion_matrix(y_true, y_pred, labels=labels_names)\n",
    "        disp = ConfusionMatrixDisplay(confusion_matrix=cm, display_labels=target_names)\n",
    "        disp = disp.plot(cmap=plt.cm.Blues, values_format='g')\n",
    "        plt.xticks(rotation = 90)\n",
    "        plt.show()\n"
   ]
  },
  {
   "cell_type": "code",
   "execution_count": 14,
   "metadata": {
    "colab": {
     "base_uri": "https://localhost:8080/",
     "height": 567
    },
    "id": "K5ERMu2MJzhi",
    "outputId": "c8b11260-fa59-41cf-ca74-5bbac9e6dd2e"
   },
   "outputs": [
    {
     "name": "stdout",
     "output_type": "stream",
     "text": [
      "Test Accuracy of the model on the test images: 76.38190954773869 %\n",
      "                       precision    recall  f1-score   support\n",
      "\n",
      "           Cloth Mask       0.77      0.78      0.77       120\n",
      "Mask Worn Incorrectly       0.85      0.50      0.63       121\n",
      "             N95 Mask       0.83      0.85      0.84       139\n",
      "         No Face Mask       0.62      0.90      0.73        96\n",
      "        Surgical Mask       0.80      0.82      0.81       121\n",
      "\n",
      "             accuracy                           0.76       597\n",
      "            macro avg       0.77      0.77      0.76       597\n",
      "         weighted avg       0.78      0.76      0.76       597\n",
      "\n"
     ]
    },
    {
     "data": {
      "image/png": "[encoded data removed]",
      "text/plain": [
       "<Figure size 432x288 with 2 Axes>"
      ]
     },
     "metadata": {
      "needs_background": "light"
     },
     "output_type": "display_data"
    }
   ],
   "source": [
    "getModelAccuracy(model, test_dataloader, device)"
   ]
  },
  {
   "cell_type": "markdown",
   "metadata": {},
   "source": [
    " ### Predicting single image of five classes"
   ]
  },
  {
   "cell_type": "markdown",
   "metadata": {},
   "source": [
    "#### predict_image class"
   ]
  },
  {
   "cell_type": "code",
   "execution_count": 15,
   "metadata": {
    "id": "3ypGYSHnJ1FB"
   },
   "outputs": [],
   "source": [
    "def predict_image(model, image, device, labels=[\"Cloth Mask\", \"Mask Worn Incorrectly\", \"N95 Mask\", \"No Face Mask\", \"Surgical Mask\"]):\n",
    "\n",
    "    model.eval()\n",
    "    with torch.no_grad():\n",
    "        image = image.to(device)\n",
    "        output = model(image.unsqueeze(0))\n",
    "    pred = output.argmax(dim=1).cpu().numpy()\n",
    "    return labels[pred[0]]"
   ]
  },
  {
   "cell_type": "markdown",
   "metadata": {},
   "source": [
    "#### preparing pred data"
   ]
  },
  {
   "cell_type": "code",
   "execution_count": 16,
   "metadata": {},
   "outputs": [],
   "source": [
    "import glob\n",
    "import pandas as pd\n",
    "application_image_directory='/Users/shreyaspatel/Desktop/Concordia University/SEM02/COMP 6721 Applied AI/Project/Part 1/Final_Data/Application Mask Dataset'\n",
    "labels=[\"Cloth Mask\", \"Mask Worn Incorrectly\", \"N95 Mask\", \"No Face Mask\", \"Surgical Mask\"]\n",
    "data_image = []\n",
    "actual_value  = []\n",
    "images_path=glob.glob(application_image_directory+'/*.jpeg')\n",
    "for i in images_path:\n",
    "    data_image.append(i)\n",
    "application_image_df = pd.DataFrame(data_image, columns=['Name'])"
   ]
  },
  {
   "cell_type": "markdown",
   "metadata": {},
   "source": [
    "#### predicting images (application mode)"
   ]
  },
  {
   "cell_type": "code",
   "execution_count": 1,
   "metadata": {},
   "outputs": [
    {
     "name": "stdout",
     "output_type": "stream",
     "text": [
      "Model Prediction on Application ImageSet\n"
     ]
    },
    {
     "ename": "NameError",
     "evalue": "name 'plt' is not defined",
     "output_type": "error",
     "traceback": [
      "\u001b[0;31m---------------------------------------------------------------------------\u001b[0m",
      "\u001b[0;31mNameError\u001b[0m                                 Traceback (most recent call last)",
      "\u001b[0;32m/var/folders/7j/wdrrct4x7g9dvn74yh725_jm0000gn/T/ipykernel_42262/1260632018.py\u001b[0m in \u001b[0;36m<module>\u001b[0;34m\u001b[0m\n\u001b[1;32m      1\u001b[0m \u001b[0mprint\u001b[0m\u001b[0;34m(\u001b[0m\u001b[0;34m'Model Prediction on Application ImageSet'\u001b[0m\u001b[0;34m)\u001b[0m\u001b[0;34m\u001b[0m\u001b[0;34m\u001b[0m\u001b[0m\n\u001b[1;32m      2\u001b[0m \u001b[0;31m#plt.title(label =,loc=\"center\", fontsize=29)\u001b[0m\u001b[0;34m\u001b[0m\u001b[0;34m\u001b[0m\u001b[0m\n\u001b[0;32m----> 3\u001b[0;31m \u001b[0mplt\u001b[0m\u001b[0;34m.\u001b[0m\u001b[0mrcParams\u001b[0m\u001b[0;34m[\u001b[0m\u001b[0;34m\"figure.figsize\"\u001b[0m\u001b[0;34m]\u001b[0m \u001b[0;34m=\u001b[0m \u001b[0;34m[\u001b[0m\u001b[0;36m15.00\u001b[0m\u001b[0;34m,\u001b[0m \u001b[0;36m15.00\u001b[0m\u001b[0;34m]\u001b[0m\u001b[0;34m\u001b[0m\u001b[0;34m\u001b[0m\u001b[0m\n\u001b[0m\u001b[1;32m      4\u001b[0m \u001b[0mplt\u001b[0m\u001b[0;34m.\u001b[0m\u001b[0mrcParams\u001b[0m\u001b[0;34m[\u001b[0m\u001b[0;34m\"figure.autolayout\"\u001b[0m\u001b[0;34m]\u001b[0m \u001b[0;34m=\u001b[0m \u001b[0;32mTrue\u001b[0m\u001b[0;34m\u001b[0m\u001b[0;34m\u001b[0m\u001b[0m\n\u001b[1;32m      5\u001b[0m \u001b[0mfig\u001b[0m\u001b[0;34m,\u001b[0m \u001b[0max\u001b[0m \u001b[0;34m=\u001b[0m \u001b[0mplt\u001b[0m\u001b[0;34m.\u001b[0m\u001b[0msubplots\u001b[0m\u001b[0;34m(\u001b[0m\u001b[0;36m1\u001b[0m\u001b[0;34m,\u001b[0m\u001b[0;36m5\u001b[0m\u001b[0;34m)\u001b[0m\u001b[0;34m\u001b[0m\u001b[0;34m\u001b[0m\u001b[0m\n",
      "\u001b[0;31mNameError\u001b[0m: name 'plt' is not defined"
     ]
    }
   ],
   "source": [
    "print('Model Prediction on Application ImageSet')\n",
    "#plt.title(label =,loc=\"center\", fontsize=29)\n",
    "plt.rcParams[\"figure.figsize\"] = [15.00, 15.00]\n",
    "plt.rcParams[\"figure.autolayout\"] = True\n",
    "fig, ax = plt.subplots(1,5)\n",
    "for i in range(len(application_image_df)) :\n",
    "    imageFile = application_image_df.loc[i, \"Name\"]\n",
    "    image = Image.open(imageFile)\n",
    "    \n",
    "    transform = transforms.Compose(\n",
    "          [transforms.ToTensor(),\n",
    "            transforms.Resize((32, 32)),\n",
    "            transforms.Normalize((0.5202, 0.4792, 0.4603), (0.2875, 0.2841, 0.2846))]\n",
    "      )\n",
    "    image = transform(image)\n",
    "    predicted_mask_class = predict_image(model, image, device)\n",
    "    \n",
    "    application_image = plt.imread(imageFile)\n",
    "    application_image = ax[i].imshow(application_image, extent=[0, 300, 0, 300])\n",
    "    ax[i].axes.yaxis.set_visible(False)\n",
    "    ax[i].axes.xaxis.set_ticklabels([])\n",
    "    ax[i].set_xlabel(predicted_mask_class, fontsize=18)\n",
    "plt.show()"
   ]
  },
  {
   "cell_type": "code",
   "execution_count": null,
   "metadata": {},
   "outputs": [],
   "source": []
  },
  {
   "cell_type": "code",
   "execution_count": null,
   "metadata": {},
   "outputs": [],
   "source": []
  },
  {
   "cell_type": "code",
   "execution_count": null,
   "metadata": {},
   "outputs": [],
   "source": []
  },
  {
   "cell_type": "code",
   "execution_count": null,
   "metadata": {},
   "outputs": [],
   "source": []
  }
 ],
 "metadata": {
  "colab": {
   "collapsed_sections": [],
   "name": "Face_Mask_Classification_AI.ipynb",
   "provenance": []
  },
  "kernelspec": {
   "display_name": "Python 3 (ipykernel)",
   "language": "python",
   "name": "python3"
  },
  "language_info": {
   "codemirror_mode": {
    "name": "ipython",
    "version": 3
   },
   "file_extension": ".py",
   "mimetype": "text/x-python",
   "name": "python",
   "nbconvert_exporter": "python",
   "pygments_lexer": "ipython3",
   "version": "3.9.7"
  }
 },
 "nbformat": 4,
 "nbformat_minor": 1
}
